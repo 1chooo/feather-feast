{
  "cells": [
    {
      "cell_type": "markdown",
      "metadata": {
        "id": "L3gvVY3rO3sV"
      },
      "source": [
        "### Install the package we need."
      ]
    },
    {
      "cell_type": "code",
      "execution_count": null,
      "metadata": {
        "colab": {
          "base_uri": "https://localhost:8080/"
        },
        "id": "NtenengkmQ4n",
        "outputId": "6267bb63-b17b-424e-f7a4-519385c11042"
      },
      "outputs": [],
      "source": [
        "!pip install line-bot-sdk flask flask-ngrok"
      ]
    },
    {
      "cell_type": "markdown",
      "metadata": {
        "id": "7sDBoIYZO70j"
      },
      "source": [
        "### Connect to the drive, to save the information to the local."
      ]
    },
    {
      "cell_type": "code",
      "execution_count": null,
      "metadata": {
        "colab": {
          "base_uri": "https://localhost:8080/"
        },
        "id": "DIIu4-u5Ay8n",
        "outputId": "8820af05-d3f1-4eac-8990-b5c292dd7866"
      },
      "outputs": [],
      "source": [
        "from google.colab import drive\n",
        "drive.mount('/content/drive')"
      ]
    },
    {
      "cell_type": "markdown",
      "metadata": {
        "id": "ACsv70nqPBrV"
      },
      "source": [
        "### Import the package we need."
      ]
    },
    {
      "cell_type": "code",
      "execution_count": null,
      "metadata": {
        "id": "gnYixO4b48hA"
      },
      "outputs": [],
      "source": [
        "# Web Server\n",
        "from flask import Flask, request, abort, jsonify\n",
        "import json\n",
        "# Generate the outside url\n",
        "from flask_ngrok import run_with_ngrok\n",
        "from linebot import (\n",
        "    LineBotApi, \n",
        "    WebhookHandler\n",
        ")\n",
        "from linebot.exceptions import (\n",
        "    InvalidSignatureError\n",
        ")\n",
        "import config\n",
        "import os "
      ]
    },
    {
      "cell_type": "code",
      "execution_count": null,
      "metadata": {
        "id": "O-LA2tO95C_d"
      },
      "outputs": [],
      "source": [
        "# connect to the line bot api and the handler\n",
        "line_bot_api = LineBotApi(config.line_bot_api)\n",
        "handler = WebhookHandler(config.handler)"
      ]
    },
    {
      "cell_type": "markdown",
      "metadata": {
        "id": "B5Sl4FkFPU3E"
      },
      "source": [
        "### load the story with the Excel"
      ]
    },
    {
      "cell_type": "code",
      "execution_count": null,
      "metadata": {
        "id": "TTojukCLPVgf"
      },
      "outputs": [],
      "source": [
        "import pandas as pd\n",
        "\n",
        "plot_content = pd.read_excel(\"./drive/MyDrive/leftover/bearbear.xlsx\")"
      ]
    },
    {
      "cell_type": "markdown",
      "metadata": {
        "id": "onOiqNE4Pc1d"
      },
      "source": [
        "### Import the package"
      ]
    },
    {
      "cell_type": "code",
      "execution_count": null,
      "metadata": {
        "id": "ZWLXYEcBIo2i"
      },
      "outputs": [],
      "source": [
        "from linebot.models import (\n",
        "    ImagemapSendMessage,\n",
        "    TextSendMessage,\n",
        "    ImageSendMessage,\n",
        "    LocationSendMessage,\n",
        "    FlexSendMessage,\n",
        "    VideoSendMessage,\n",
        "    StickerSendMessage,\n",
        "    AudioSendMessage\n",
        ")\n",
        "from linebot.models.template import (\n",
        "    ButtonsTemplate,\n",
        "    CarouselTemplate,\n",
        "    ConfirmTemplate,\n",
        "    ImageCarouselTemplate\n",
        ")\n",
        "from linebot.models.template import *"
      ]
    },
    {
      "cell_type": "code",
      "execution_count": null,
      "metadata": {
        "id": "FyAd_iTQPi7P"
      },
      "outputs": [],
      "source": [
        "def detect_json_array_to_new_message_array(jsonObjectArray):\n",
        "    \n",
        "    # jsonObject = json.loads(jsonObjectString)\n",
        "    returnArray = []\n",
        "\n",
        "\n",
        "    # 讀取其用來判斷的元件\n",
        "    for jsonObject in jsonObjectArray:\n",
        "      message_type = jsonObject.get('type')\n",
        "          \n",
        "      # 轉換\n",
        "      if message_type == 'text':\n",
        "          returnArray.append(TextSendMessage.new_from_json_dict(jsonObject))\n",
        "      elif message_type == 'imagemap':\n",
        "          returnArray.append(ImagemapSendMessage.new_from_json_dict(jsonObject))\n",
        "      elif message_type == 'template':\n",
        "          returnArray.append(TemplateSendMessage.new_from_json_dict(jsonObject))\n",
        "      elif message_type == 'image':\n",
        "          returnArray.append(ImageSendMessage.new_from_json_dict(jsonObject))\n",
        "      elif message_type == 'sticker':\n",
        "          returnArray.append(StickerSendMessage.new_from_json_dict(jsonObject))  \n",
        "      elif message_type == 'audio':\n",
        "          returnArray.append(AudioSendMessage.new_from_json_dict(jsonObject))  \n",
        "      elif message_type == 'location':\n",
        "          returnArray.append(LocationSendMessage.new_from_json_dict(jsonObject))\n",
        "      elif message_type == 'flex':\n",
        "          returnArray.append(FlexSendMessage.new_from_json_dict(jsonObject))  \n",
        "      elif message_type == 'video':\n",
        "          returnArray.append(VideoSendMessage.new_from_json_dict(jsonObject))    \n",
        "          \n",
        "    return returnArray"
      ]
    },
    {
      "cell_type": "markdown",
      "metadata": {
        "id": "UoDMRWCpPpGB"
      },
      "source": [
        "### Find the repliance from the Excel, then turn them into the message."
      ]
    },
    {
      "cell_type": "code",
      "execution_count": null,
      "metadata": {
        "id": "7MdzppdssXxj"
      },
      "outputs": [],
      "source": [
        "from numpy import NaN\n",
        "import math\n",
        "import json\n",
        "\n",
        "def drama_execl_to_json(user_input_keyword):\n",
        "  result = plot_content[plot_content['keyword']==user_input_keyword]\n",
        "  result_dict=result.to_dict()\n",
        "  for field in result_dict.keys():\n",
        "    for key in result_dict[field].keys():\n",
        "      result_dict[field]= result_dict[field][key]\n",
        "  \n",
        "  reply_json_array=[]\n",
        "  combin_json_array=['reply_message1','reply_message2','reply_message3','reply_message4','reply_message5']\n",
        "\n",
        "  for ele in combin_json_array:\n",
        "    if pd.isna(result_dict[ele]) is False:\n",
        "      print(result_dict[ele])\n",
        "      reply_json_array.append(json.loads(result_dict[ele]))\n",
        "      print(reply_json_array)\n",
        "\n",
        "  if pd.isna(result_dict['choice_button']) is False:\n",
        "    reply_json_array[len(reply_json_array)-1].update(json.loads(result_dict['choice_button']))\n",
        "\n",
        "  reply_message_array = detect_json_array_to_new_message_array(reply_json_array)\n",
        "  return reply_message_array"
      ]
    },
    {
      "cell_type": "markdown",
      "metadata": {
        "id": "9iQPcNCsP3kf"
      },
      "source": [
        "### start the server"
      ]
    },
    {
      "cell_type": "code",
      "execution_count": null,
      "metadata": {
        "id": "6oELI06zJU5w"
      },
      "outputs": [],
      "source": [
        "app = Flask(__name__)\n",
        "run_with_ngrok(app)"
      ]
    },
    {
      "cell_type": "code",
      "execution_count": null,
      "metadata": {
        "id": "AuyHXwil5f8y"
      },
      "outputs": [],
      "source": [
        "# 啟動server對外接口，使Line能丟消息進來\n",
        "@app.route(\"/callback\", methods=['POST'])\n",
        "\n",
        "def callback():\n",
        "    # get X-Line-Signature header value\n",
        "    signature = request.headers['X-Line-Signature']\n",
        "\n",
        "    # get request body as text\n",
        "    body = request.get_data(as_text=True)\n",
        "    print(body)\n",
        "\n",
        "    with open('./drive/MyDrive/leftover/20230328/ai-event.txt', 'a') as testwritefile:\n",
        "      testwritefile.write(body)\n",
        "      testwritefile.write('\\n')\n",
        "    # 記錄用戶log\n",
        "    with open('./drive/MyDrive/leftover/20230328/ai-event.log', 'a') as testwritefile:\n",
        "      testwritefile.write(body)\n",
        "      testwritefile.write('\\n')\n",
        "\n",
        "    # handle webhook body\n",
        "    try:\n",
        "        handler.handle(body, signature)\n",
        "    except InvalidSignatureError:\n",
        "        abort(400)\n",
        "\n",
        "    return 'OK'"
      ]
    },
    {
      "attachments": {},
      "cell_type": "markdown",
      "metadata": {},
      "source": [
        "撰寫用戶關注時，我們要處理的商業邏輯\n",
        "\n",
        "1. 取得用戶個資，並存回伺服器\n",
        "2. 回應用戶，歡迎用的文字消息\n"
      ]
    },
    {
      "cell_type": "code",
      "execution_count": null,
      "metadata": {
        "id": "HxaA6_uGDcAN"
      },
      "outputs": [],
      "source": [
        "from linebot.models.events import (\n",
        "    FollowEvent,\n",
        "    MessageEvent\n",
        ")\n",
        "from linebot.models import(\n",
        "    TextSendMessage, \n",
        "    ImageSendMessage,\n",
        "    ImageMessage,\n",
        "    VideoMessage,\n",
        "    AudioMessage,\n",
        "    AudioSendMessage\n",
        ")\n",
        "\n",
        "# 告知handler，如果收到FollowEvent，則做下面的方法處理\n",
        "@handler.add(FollowEvent)\n",
        "def reply_text_and_get_user_profile(event):\n",
        "    \n",
        "    # 取出消息內User的資料\n",
        "    user_profile = line_bot_api.get_profile(event.source.user_id)\n",
        "        \n",
        "     # 將用戶資訊存在檔案內\n",
        "    with open(\"./drive/MyDrive/leftover/20230328/users.txt\", \"a\") as myfile:\n",
        "        myfile.write(json.dumps(vars(user_profile),sort_keys=True))\n",
        "        myfile.write('\\n')\n",
        "    \n",
        "\n",
        "    # # 回覆文字消息與圖片消息\n",
        "    # line_bot_api.reply_message(\n",
        "    #     event.reply_token,\n",
        "    #     TextSendMessage('安安，我們成功成為好友了！')\n",
        "    # )"
      ]
    },
    {
      "cell_type": "code",
      "execution_count": null,
      "metadata": {
        "id": "TclwnfOrLlG7"
      },
      "outputs": [],
      "source": [
        "from linebot.models import(\n",
        "    MessageEvent,ImageMessage, TextSendMessage,TextMessage\n",
        ")\n",
        "\n",
        "@handler.add(MessageEvent, message=TextMessage)\n",
        "def handle_text_message(event):\n",
        "\n",
        "    if len(drama_execl_to_json(event.message.text)) != 0 :\n",
        "      line_bot_api.reply_message(\n",
        "        event.reply_token,\n",
        "        drama_execl_to_json(event.message.text)\n",
        "      )\n",
        "    else:\n",
        "      line_bot_api.reply_message(\n",
        "        event.reply_token,\n",
        "        TextSendMessage('此物件沒有劇情設計')\n",
        "      )"
      ]
    },
    {
      "attachments": {},
      "cell_type": "markdown",
      "metadata": {},
      "source": [
        "\n",
        "若收到圖片消息時，\n",
        "\n",
        "先回覆用戶文字消息，並從Line上將照片拿回。\n",
        "\n"
      ]
    },
    {
      "cell_type": "code",
      "execution_count": null,
      "metadata": {
        "id": "Xqac4Jt8Dd8i"
      },
      "outputs": [],
      "source": [
        "from linebot.models import(\n",
        "    TextSendMessage, ImageMessage,VideoMessage,AudioMessage,AudioSendMessage\n",
        ")\n",
        "\n",
        "# 告知handler，當收到消息事件，且消息為圖片消息時，作下列的方法\n",
        "@handler.add(MessageEvent, message=ImageMessage)\n",
        "def handle_image_message(event):\n",
        "\n",
        "    # 麻煩line_bot_api回應用戶消息\n",
        "    line_bot_api.reply_message(\n",
        "        event.reply_token,\n",
        "        TextSendMessage(text='Image has Upload'+ ' ' + event.message.id + '\\n' + '你好啊！你的照片被我拿走了')\n",
        "    )\n",
        "    \n",
        "    # 麻煩line_bot_api跟line索取該消息的多媒體訊息\n",
        "    # 存回Colab的臨時電腦內\n",
        "    message_content = line_bot_api.get_message_content(event.message.id)\n",
        "    # with open(os.path.join('/path/to/Documents',completeName), \"w\") as file1:\n",
        "    #     toFile = raw_input(\"Write what you want into the field\")\n",
        "    #     file1.write(toFile)\n",
        "    with open('./drive/MyDrive/leftover/20230328/'+event.message.id+'.jpg', 'wb') as fd:\n",
        "        for chunk in message_content.iter_content():\n",
        "            fd.write(chunk)"
      ]
    },
    {
      "attachments": {},
      "cell_type": "markdown",
      "metadata": {},
      "source": [
        "\n",
        "若收到語音消息時，\n",
        "\n",
        "先回覆用戶文字消息，並從Line上將照片拿回。\n"
      ]
    },
    {
      "cell_type": "code",
      "execution_count": null,
      "metadata": {
        "id": "o7TmQETIDf-u"
      },
      "outputs": [],
      "source": [
        "from linebot.models import(\n",
        "    TextSendMessage, ImageMessage,VideoMessage,AudioMessage,AudioSendMessage\n",
        ")\n",
        "\n",
        "# 告知handler，當收到消息事件，且消息為圖片消息時，作下列的方法\n",
        "@handler.add(MessageEvent, message=AudioMessage)\n",
        "def handle_audio_message(event):\n",
        "\n",
        "    # 麻煩line_bot_api回應用戶消息\n",
        "    line_bot_api.reply_message(\n",
        "        event.reply_token,\n",
        "        TextSendMessage(text='Audio has Upload'+ ' ' + event.message.id))\n",
        "    \n",
        "    # 麻煩line_bot_api跟line索取該消息的多媒體訊息\n",
        "    # 存回Colab的臨時電腦內\n",
        "    message_content = line_bot_api.get_message_content(event.message.id)\n",
        "    with open('./drive/MyDrive/leftover/20230328/' + event.message.id+'.mp3', 'wb') as fd:\n",
        "        for chunk in message_content.iter_content():\n",
        "            fd.write(chunk)"
      ]
    },
    {
      "attachments": {},
      "cell_type": "markdown",
      "metadata": {},
      "source": [
        "若收到影片消息時，\n",
        "\n",
        "先回覆用戶文字消息，並從Line上將影片拿回。"
      ]
    },
    {
      "cell_type": "code",
      "execution_count": null,
      "metadata": {
        "id": "7t8ze8R_DjRE"
      },
      "outputs": [],
      "source": [
        "from linebot.models import(\n",
        "    TextSendMessage, ImageMessage,VideoMessage,AudioMessage,AudioSendMessage\n",
        ")\n",
        "\n",
        "# 告知handler，當收到消息事件，且消息為圖片消息時，作下列的方法\n",
        "@handler.add(MessageEvent, message=VideoMessage)\n",
        "def handle_video_message(event):\n",
        "\n",
        "    # 麻煩line_bot_api回應用戶消息\n",
        "    line_bot_api.reply_message(\n",
        "        event.reply_token,\n",
        "        TextSendMessage(text='Video has Upload'+ ' ' + event.message.id))\n",
        "    \n",
        "    # 麻煩line_bot_api跟line索取該消息的多媒體訊息\n",
        "    # 存回Colab的臨時電腦內\n",
        "    message_content = line_bot_api.get_message_content(event.message.id)\n",
        "    with open('./drive/MyDrive/leftover/20230328/' + event.message.id+'.mp4', 'wb') as fd:\n",
        "        for chunk in message_content.iter_content():\n",
        "            fd.write(chunk)"
      ]
    },
    {
      "cell_type": "code",
      "execution_count": null,
      "metadata": {
        "colab": {
          "base_uri": "https://localhost:8080/"
        },
        "id": "rwhP_Lac7Ve4",
        "outputId": "37b9cdf5-6ec1-46fe-9976-e6d25d27f952"
      },
      "outputs": [],
      "source": [
        "if __name__ == '__main__':\n",
        "    app.run()"
      ]
    }
  ],
  "metadata": {
    "colab": {
      "provenance": []
    },
    "kernelspec": {
      "display_name": "venv",
      "language": "python",
      "name": "python3"
    },
    "language_info": {
      "name": "python",
      "version": "3.9.7"
    },
    "vscode": {
      "interpreter": {
        "hash": "f895cd70a896f4c69b4ef7db3afd327e0ec0c277393b89e8c157e855bf4a7b43"
      }
    }
  },
  "nbformat": 4,
  "nbformat_minor": 0
}
